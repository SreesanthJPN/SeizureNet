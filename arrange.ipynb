{
 "cells": [
  {
   "cell_type": "code",
   "execution_count": 5,
   "metadata": {},
   "outputs": [],
   "source": [
    "import os\n",
    "import numpy as np\n",
    "\n",
    "# Set the input directory containing the .npy and .txt files\n",
    "input_directory = '/mnt/data/'\n",
    "# Create a new directory for the arranged .npy files\n",
    "output_directory = os.path.join(input_directory, 'arranged')\n",
    "os.makedirs(output_directory, exist_ok=True)\n",
    "\n",
    "# Define the desired channel order\n",
    "desired_order = [\n",
    "    \"Fp1\", \"F3\", \"C3\", \"P3\", \"1\", \"F7\", \"T3\", \"T5\", \"Fc1\",\n",
    "    \"Fc5\", \"Cp1\", \"Cp5\", \"F9\", \"Fz\", \"Cz\", \"Pz\", \"Fp2\", \n",
    "    \"F4\", \"C4\", \"P4\", \"O2\", \"F8\", \"T4\", \"T6\", \"Fc2\", \n",
    "    \"Fc6\", \"Cp2\", \"Cp6\", \"F10\"\n",
    "]\n",
    "\n",
    "# Function to get channel order from a .txt file\n",
    "def get_channel_order_from_txt(txt_file):\n",
    "    with open(txt_file, 'r') as f:\n",
    "        lines = f.readlines()\n",
    "    channels = []\n",
    "    for line in lines:\n",
    "        if \"Channel\" in line:\n",
    "            channel_name = line.split(\":\")[-1].strip()\n",
    "            channels.append(channel_name)\n",
    "    return channels\n",
    "\n",
    "# Process each npy file and arrange channels\n",
    "for filename in os.listdir(input_directory):\n",
    "    if filename.endswith('.npy'):\n",
    "        # Load the .npy file\n",
    "        npy_file_path = os.path.join(input_directory, filename)\n",
    "        data = np.load(npy_file_path)\n",
    "\n",
    "        # Find the corresponding .txt file\n",
    "        txt_file = filename.replace('_segmented.npy', '') + '.txt'\n",
    "        txt_file_path = os.path.join(input_directory, txt_file)\n",
    "\n",
    "        # Get the channel order from the .txt file\n",
    "        if os.path.exists(txt_file_path):\n",
    "            channel_order = get_channel_order_from_txt(txt_file_path)\n",
    "\n",
    "            # Create a mapping from the original indices to the desired order\n",
    "            index_map = {channel: idx for idx, channel in enumerate(channel_order)}\n",
    "            arranged_indices = [index_map[channel] for channel in desired_order if channel in index_map]\n",
    "\n",
    "            # Arrange the channels\n",
    "            arranged_data = data[:, arranged_indices, :]\n",
    "\n",
    "            # Save the arranged data in the new directory\n",
    "            output_file_path = os.path.join(output_directory, filename)\n",
    "            np.save(output_file_path, arranged_data)"
   ]
  },
  {
   "cell_type": "code",
   "execution_count": null,
   "metadata": {},
   "outputs": [],
   "source": []
  }
 ],
 "metadata": {
  "kernelspec": {
   "display_name": "wavelet",
   "language": "python",
   "name": "python3"
  },
  "language_info": {
   "codemirror_mode": {
    "name": "ipython",
    "version": 3
   },
   "file_extension": ".py",
   "mimetype": "text/x-python",
   "name": "python",
   "nbconvert_exporter": "python",
   "pygments_lexer": "ipython3",
   "version": "3.12.4"
  }
 },
 "nbformat": 4,
 "nbformat_minor": 2
}
