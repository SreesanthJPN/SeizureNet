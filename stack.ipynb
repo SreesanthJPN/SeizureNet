{
 "cells": [
  {
   "cell_type": "code",
   "execution_count": 2,
   "metadata": {},
   "outputs": [],
   "source": [
    "import os\n",
    "import numpy as np"
   ]
  },
  {
   "cell_type": "code",
   "execution_count": 2,
   "metadata": {},
   "outputs": [
    {
     "data": {
      "text/plain": [
       "(710, 35, 61440)"
      ]
     },
     "execution_count": 2,
     "metadata": {},
     "output_type": "execute_result"
    }
   ],
   "source": [
    "np.load('final_untransformed_data.npy').shape"
   ]
  },
  {
   "cell_type": "code",
   "execution_count": 14,
   "metadata": {},
   "outputs": [
    {
     "name": "stderr",
     "output_type": "stream",
     "text": [
      "<>:1: SyntaxWarning: invalid escape sequence '\\s'\n",
      "<>:1: SyntaxWarning: invalid escape sequence '\\s'\n",
      "C:\\Users\\jpsre\\AppData\\Local\\Temp\\ipykernel_5856\\1425114268.py:1: SyntaxWarning: invalid escape sequence '\\s'\n",
      "  a = np.load('new\\selected_eeg_PN00-1.npy')[:,0:35,:]\n"
     ]
    }
   ],
   "source": [
    "a = np.load('new\\selected_eeg_PN00-1.npy')[:,0:35,:]"
   ]
  },
  {
   "cell_type": "code",
   "execution_count": 19,
   "metadata": {},
   "outputs": [
    {
     "name": "stderr",
     "output_type": "stream",
     "text": [
      "<>:1: SyntaxWarning: invalid escape sequence '\\l'\n",
      "<>:1: SyntaxWarning: invalid escape sequence '\\l'\n",
      "C:\\Users\\jpsre\\AppData\\Local\\Temp\\ipykernel_5856\\2197176745.py:1: SyntaxWarning: invalid escape sequence '\\l'\n",
      "  b = np.load('new\\labels\\selected_labels_PN00-1.npy')\n"
     ]
    }
   ],
   "source": [
    "b = np.load('new\\labels\\selected_labels_PN00-1.npy')"
   ]
  },
  {
   "cell_type": "code",
   "execution_count": 16,
   "metadata": {},
   "outputs": [
    {
     "name": "stdout",
     "output_type": "stream",
     "text": [
      "(22, 35, 61440)\n",
      "(33, 35, 61440)\n",
      "(44, 35, 61440)\n",
      "(55, 35, 61440)\n",
      "(66, 35, 61440)\n",
      "(77, 35, 61440)\n",
      "(87, 35, 61440)\n",
      "(98, 35, 61440)\n",
      "(109, 35, 61440)\n"
     ]
    }
   ],
   "source": [
    "path = 'new'\n",
    "for i in os.listdir(path):\n",
    "\n",
    "    if i.endswith('.npy'):\n",
    "        new = np.load(os.path.join(path, i))\n",
    "        new = new[:,0:35,:]\n",
    "        a = np.concatenate((a,new))\n",
    "        print(a.shape)"
   ]
  },
  {
   "cell_type": "code",
   "execution_count": 20,
   "metadata": {},
   "outputs": [
    {
     "name": "stdout",
     "output_type": "stream",
     "text": [
      "(22,)\n",
      "(33,)\n",
      "(44,)\n",
      "(55,)\n",
      "(66,)\n",
      "(77,)\n",
      "(87,)\n",
      "(98,)\n",
      "(109,)\n"
     ]
    },
    {
     "name": "stderr",
     "output_type": "stream",
     "text": [
      "<>:1: SyntaxWarning: invalid escape sequence '\\l'\n",
      "<>:1: SyntaxWarning: invalid escape sequence '\\l'\n",
      "C:\\Users\\jpsre\\AppData\\Local\\Temp\\ipykernel_5856\\616729712.py:1: SyntaxWarning: invalid escape sequence '\\l'\n",
      "  path = 'new\\labels'\n"
     ]
    }
   ],
   "source": [
    "path = 'new\\labels'\n",
    "for i in os.listdir(path):\n",
    "\n",
    "    if i.endswith('.npy'):\n",
    "        new = np.load(os.path.join(path, i))\n",
    "        b = np.concatenate((b,new), axis = 0)\n",
    "        print(b.shape)"
   ]
  },
  {
   "cell_type": "code",
   "execution_count": 26,
   "metadata": {},
   "outputs": [],
   "source": [
    "np.save('new_data.npy', a)\n",
    "np.save('new_labels.npy', b)"
   ]
  },
  {
   "cell_type": "code",
   "execution_count": 3,
   "metadata": {},
   "outputs": [],
   "source": [
    "a = np.load('new_data.npy')"
   ]
  },
  {
   "cell_type": "code",
   "execution_count": 4,
   "metadata": {},
   "outputs": [
    {
     "name": "stdout",
     "output_type": "stream",
     "text": [
      "(819, 35, 61440)\n"
     ]
    }
   ],
   "source": [
    "prev_data = np.load('final_untransformed_data.npy')\n",
    "new_data = np.concatenate((prev_data, a), axis=0)\n",
    "print(new_data.shape)"
   ]
  },
  {
   "cell_type": "code",
   "execution_count": 5,
   "metadata": {},
   "outputs": [],
   "source": [
    "np.save('final_data.npy', new_data)"
   ]
  },
  {
   "cell_type": "code",
   "execution_count": 3,
   "metadata": {},
   "outputs": [
    {
     "name": "stdout",
     "output_type": "stream",
     "text": [
      "(819,)\n"
     ]
    }
   ],
   "source": [
    "old_labels = np.load('final_untransformed_labels.npy')\n",
    "new_labels = np.load('new_labels.npy')\n",
    "new_labels = np.concatenate((old_labels,  new_labels))\n",
    "print(new_labels.shape)"
   ]
  },
  {
   "cell_type": "code",
   "execution_count": 4,
   "metadata": {},
   "outputs": [],
   "source": [
    "np.save('fina_labels.npy', new_labels)"
   ]
  },
  {
   "cell_type": "code",
   "execution_count": 5,
   "metadata": {},
   "outputs": [
    {
     "data": {
      "text/plain": [
       "(819,)"
      ]
     },
     "execution_count": 5,
     "metadata": {},
     "output_type": "execute_result"
    }
   ],
   "source": [
    "new_labels.shape"
   ]
  },
  {
   "cell_type": "code",
   "execution_count": null,
   "metadata": {},
   "outputs": [],
   "source": []
  }
 ],
 "metadata": {
  "kernelspec": {
   "display_name": "wavelet",
   "language": "python",
   "name": "python3"
  },
  "language_info": {
   "codemirror_mode": {
    "name": "ipython",
    "version": 3
   },
   "file_extension": ".py",
   "mimetype": "text/x-python",
   "name": "python",
   "nbconvert_exporter": "python",
   "pygments_lexer": "ipython3",
   "version": "3.12.4"
  }
 },
 "nbformat": 4,
 "nbformat_minor": 2
}
